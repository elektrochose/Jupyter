{
 "cells": [
  {
   "cell_type": "markdown",
   "metadata": {},
   "source": [
    "# Ensemble Recurrent Neural Networks\n",
    "\n",
    "This will hopefully be a small experiment into ensemble models. We are doing this for 2 reasons. First, we want to sequeeze more performance out of the models. Also, our RNNs so far are not generalizing well to the test set. We'll test whether combining many models will result in more robustness and ability to generalize.  \n",
    "\n",
    "We will use the best performing K models, and use their predictions as features. "
   ]
  },
  {
   "cell_type": "code",
   "execution_count": 4,
   "metadata": {},
   "outputs": [],
   "source": [
    "#BOILERPLATE _______________________\n",
    "#MODULES ______________________\n",
    "ROOT = '/Users/pablomartin/python/'\n",
    "import os\n",
    "import pickle\n",
    "import numpy as np\n",
    "import pandas as pd\n",
    "import itertools\n",
    "import operator\n",
    "import pysftp\n",
    "import matplotlib.pyplot as plt\n",
    "from keras.models import load_model\n",
    "from sklearn.cluster import DBSCAN\n",
    "\n",
    "from RNNmodule.SequenceClass import Sequences\n",
    "from behavioral_performance.utils import fileNames, fileNameLabels\n",
    "from Visualize.decoding import *\n",
    "idx = pd.IndexSlice\n"
   ]
  },
  {
   "cell_type": "code",
   "execution_count": 11,
   "metadata": {
    "scrolled": false
   },
   "outputs": [
    {
     "data": {
      "text/plain": [
       "array([0, 0, 0, 0, 0, 0, 0, 0, 0, 0, 0, 0, 0, 0, 0, 0])"
      ]
     },
     "execution_count": 11,
     "metadata": {},
     "output_type": "execute_result"
    }
   ],
   "source": [
    "val = pickle.load(open('/Users/pablomartin/python/Model_Evaluation/LSTM/GIANT_model_grid_BEST_OF_validation.p', 'rb'))\n",
    "coupling = {}\n",
    "for dataset1, dataset2 in itertools.product(val.index, val.index):\n",
    "    if dataset1 != dataset2:\n",
    "        mu = (val.loc[dataset1, dataset2] + val.loc[dataset2, dataset1]) / 2\n",
    "        val.loc[dataset1, dataset2] = mu\n",
    "        val.loc[dataset2, dataset1] = mu\n",
    "                \n",
    "cluster = DBSCAN(min_samples = 2, metric = 'precomputed')\n",
    "cluster.fit_predict(1 - val)\n"
   ]
  },
  {
   "cell_type": "code",
   "execution_count": null,
   "metadata": {
    "collapsed": true
   },
   "outputs": [],
   "source": []
  }
 ],
 "metadata": {
  "kernelspec": {
   "display_name": "Python 2",
   "language": "python",
   "name": "python2"
  },
  "language_info": {
   "codemirror_mode": {
    "name": "ipython",
    "version": 2
   },
   "file_extension": ".py",
   "mimetype": "text/x-python",
   "name": "python",
   "nbconvert_exporter": "python",
   "pygments_lexer": "ipython2",
   "version": "2.7.14"
  }
 },
 "nbformat": 4,
 "nbformat_minor": 2
}
